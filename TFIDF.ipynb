{
  "cells": [
    {
      "cell_type": "markdown",
      "metadata": {
        "id": "gc4mHGA3_WFW"
      },
      "source": [
        "#**Data**"
      ]
    },
    {
      "cell_type": "markdown",
      "metadata": {
        "id": "zwr9cROKlb39"
      },
      "source": [
        "**Loading Data**"
      ]
    },
    {
      "cell_type": "code",
      "execution_count": null,
      "metadata": {
        "colab": {
          "base_uri": "https://localhost:8080/"
        },
        "id": "rTiwH2FZzCoS",
        "outputId": "59008ee2-9951-42f7-fdc4-a2b631795bb0"
      },
      "outputs": [
        {
          "output_type": "stream",
          "name": "stdout",
          "text": [
            "Mounted at /content/drive\n"
          ]
        },
        {
          "output_type": "execute_result",
          "data": {
            "text/plain": [
              "(5000, 2)"
            ]
          },
          "metadata": {},
          "execution_count": 1
        }
      ],
      "source": [
        "# loading a datafile from your Google Drive directory\n",
        "from google.colab import drive\n",
        "my_path = '/content/drive'\n",
        "drive.mount(my_path)\n",
        "# converting datafile into a pandas dataframe\n",
        "file = open(\"/content/drive/My Drive/CIS509/political_orientation_data.json\", \"r\") # replace this path to open a data file\n",
        "import pandas as pd\n",
        "df = pd.read_json(file, lines=True) # representing data as a panda dataframe\n",
        "#df.head()\n",
        "df.shape"
      ]
    },
    {
      "cell_type": "code",
      "source": [
        "df"
      ],
      "metadata": {
        "colab": {
          "base_uri": "https://localhost:8080/",
          "height": 423
        },
        "id": "uV1KkMjZL33i",
        "outputId": "7838162d-f147-4f0f-b25d-6c345f23256a"
      },
      "execution_count": null,
      "outputs": [
        {
          "output_type": "execute_result",
          "data": {
            "text/plain": [
              "                                                   text         label\n",
              "0     50 Years On, The Feminist Press Is Radical and...       Liberal\n",
              "1     Anti-worker bills are working their way throug...       Liberal\n",
              "2     The FBI Seized Almost $1 Million From This Fam...  Conservative\n",
              "3     Stephanie Grisham’s Book Details Trump’s ‘Terr...       Liberal\n",
              "4                                  How Trump kept peace  Conservative\n",
              "...                                                 ...           ...\n",
              "4995                     The Gender Reveal That Doesn’t       Liberal\n",
              "4996                               Why Socialism Failed  Conservative\n",
              "4997  ‎Reimagining Soviet Georgia - Episode 12: Blac...       Liberal\n",
              "4998  Analysis: It's time to admit it: Mitt Romney w...       Liberal\n",
              "4999  In First Official Statement, Israel Says It Su...  Conservative\n",
              "\n",
              "[5000 rows x 2 columns]"
            ],
            "text/html": [
              "\n",
              "  <div id=\"df-8549c73d-5f32-4d2f-b3d7-6419a3511676\">\n",
              "    <div class=\"colab-df-container\">\n",
              "      <div>\n",
              "<style scoped>\n",
              "    .dataframe tbody tr th:only-of-type {\n",
              "        vertical-align: middle;\n",
              "    }\n",
              "\n",
              "    .dataframe tbody tr th {\n",
              "        vertical-align: top;\n",
              "    }\n",
              "\n",
              "    .dataframe thead th {\n",
              "        text-align: right;\n",
              "    }\n",
              "</style>\n",
              "<table border=\"1\" class=\"dataframe\">\n",
              "  <thead>\n",
              "    <tr style=\"text-align: right;\">\n",
              "      <th></th>\n",
              "      <th>text</th>\n",
              "      <th>label</th>\n",
              "    </tr>\n",
              "  </thead>\n",
              "  <tbody>\n",
              "    <tr>\n",
              "      <th>0</th>\n",
              "      <td>50 Years On, The Feminist Press Is Radical and...</td>\n",
              "      <td>Liberal</td>\n",
              "    </tr>\n",
              "    <tr>\n",
              "      <th>1</th>\n",
              "      <td>Anti-worker bills are working their way throug...</td>\n",
              "      <td>Liberal</td>\n",
              "    </tr>\n",
              "    <tr>\n",
              "      <th>2</th>\n",
              "      <td>The FBI Seized Almost $1 Million From This Fam...</td>\n",
              "      <td>Conservative</td>\n",
              "    </tr>\n",
              "    <tr>\n",
              "      <th>3</th>\n",
              "      <td>Stephanie Grisham’s Book Details Trump’s ‘Terr...</td>\n",
              "      <td>Liberal</td>\n",
              "    </tr>\n",
              "    <tr>\n",
              "      <th>4</th>\n",
              "      <td>How Trump kept peace</td>\n",
              "      <td>Conservative</td>\n",
              "    </tr>\n",
              "    <tr>\n",
              "      <th>...</th>\n",
              "      <td>...</td>\n",
              "      <td>...</td>\n",
              "    </tr>\n",
              "    <tr>\n",
              "      <th>4995</th>\n",
              "      <td>The Gender Reveal That Doesn’t</td>\n",
              "      <td>Liberal</td>\n",
              "    </tr>\n",
              "    <tr>\n",
              "      <th>4996</th>\n",
              "      <td>Why Socialism Failed</td>\n",
              "      <td>Conservative</td>\n",
              "    </tr>\n",
              "    <tr>\n",
              "      <th>4997</th>\n",
              "      <td>‎Reimagining Soviet Georgia - Episode 12: Blac...</td>\n",
              "      <td>Liberal</td>\n",
              "    </tr>\n",
              "    <tr>\n",
              "      <th>4998</th>\n",
              "      <td>Analysis: It's time to admit it: Mitt Romney w...</td>\n",
              "      <td>Liberal</td>\n",
              "    </tr>\n",
              "    <tr>\n",
              "      <th>4999</th>\n",
              "      <td>In First Official Statement, Israel Says It Su...</td>\n",
              "      <td>Conservative</td>\n",
              "    </tr>\n",
              "  </tbody>\n",
              "</table>\n",
              "<p>5000 rows × 2 columns</p>\n",
              "</div>\n",
              "      <button class=\"colab-df-convert\" onclick=\"convertToInteractive('df-8549c73d-5f32-4d2f-b3d7-6419a3511676')\"\n",
              "              title=\"Convert this dataframe to an interactive table.\"\n",
              "              style=\"display:none;\">\n",
              "        \n",
              "  <svg xmlns=\"http://www.w3.org/2000/svg\" height=\"24px\"viewBox=\"0 0 24 24\"\n",
              "       width=\"24px\">\n",
              "    <path d=\"M0 0h24v24H0V0z\" fill=\"none\"/>\n",
              "    <path d=\"M18.56 5.44l.94 2.06.94-2.06 2.06-.94-2.06-.94-.94-2.06-.94 2.06-2.06.94zm-11 1L8.5 8.5l.94-2.06 2.06-.94-2.06-.94L8.5 2.5l-.94 2.06-2.06.94zm10 10l.94 2.06.94-2.06 2.06-.94-2.06-.94-.94-2.06-.94 2.06-2.06.94z\"/><path d=\"M17.41 7.96l-1.37-1.37c-.4-.4-.92-.59-1.43-.59-.52 0-1.04.2-1.43.59L10.3 9.45l-7.72 7.72c-.78.78-.78 2.05 0 2.83L4 21.41c.39.39.9.59 1.41.59.51 0 1.02-.2 1.41-.59l7.78-7.78 2.81-2.81c.8-.78.8-2.07 0-2.86zM5.41 20L4 18.59l7.72-7.72 1.47 1.35L5.41 20z\"/>\n",
              "  </svg>\n",
              "      </button>\n",
              "      \n",
              "  <style>\n",
              "    .colab-df-container {\n",
              "      display:flex;\n",
              "      flex-wrap:wrap;\n",
              "      gap: 12px;\n",
              "    }\n",
              "\n",
              "    .colab-df-convert {\n",
              "      background-color: #E8F0FE;\n",
              "      border: none;\n",
              "      border-radius: 50%;\n",
              "      cursor: pointer;\n",
              "      display: none;\n",
              "      fill: #1967D2;\n",
              "      height: 32px;\n",
              "      padding: 0 0 0 0;\n",
              "      width: 32px;\n",
              "    }\n",
              "\n",
              "    .colab-df-convert:hover {\n",
              "      background-color: #E2EBFA;\n",
              "      box-shadow: 0px 1px 2px rgba(60, 64, 67, 0.3), 0px 1px 3px 1px rgba(60, 64, 67, 0.15);\n",
              "      fill: #174EA6;\n",
              "    }\n",
              "\n",
              "    [theme=dark] .colab-df-convert {\n",
              "      background-color: #3B4455;\n",
              "      fill: #D2E3FC;\n",
              "    }\n",
              "\n",
              "    [theme=dark] .colab-df-convert:hover {\n",
              "      background-color: #434B5C;\n",
              "      box-shadow: 0px 1px 3px 1px rgba(0, 0, 0, 0.15);\n",
              "      filter: drop-shadow(0px 1px 2px rgba(0, 0, 0, 0.3));\n",
              "      fill: #FFFFFF;\n",
              "    }\n",
              "  </style>\n",
              "\n",
              "      <script>\n",
              "        const buttonEl =\n",
              "          document.querySelector('#df-8549c73d-5f32-4d2f-b3d7-6419a3511676 button.colab-df-convert');\n",
              "        buttonEl.style.display =\n",
              "          google.colab.kernel.accessAllowed ? 'block' : 'none';\n",
              "\n",
              "        async function convertToInteractive(key) {\n",
              "          const element = document.querySelector('#df-8549c73d-5f32-4d2f-b3d7-6419a3511676');\n",
              "          const dataTable =\n",
              "            await google.colab.kernel.invokeFunction('convertToInteractive',\n",
              "                                                     [key], {});\n",
              "          if (!dataTable) return;\n",
              "\n",
              "          const docLinkHtml = 'Like what you see? Visit the ' +\n",
              "            '<a target=\"_blank\" href=https://colab.research.google.com/notebooks/data_table.ipynb>data table notebook</a>'\n",
              "            + ' to learn more about interactive tables.';\n",
              "          element.innerHTML = '';\n",
              "          dataTable['output_type'] = 'display_data';\n",
              "          await google.colab.output.renderOutput(dataTable, element);\n",
              "          const docLink = document.createElement('div');\n",
              "          docLink.innerHTML = docLinkHtml;\n",
              "          element.appendChild(docLink);\n",
              "        }\n",
              "      </script>\n",
              "    </div>\n",
              "  </div>\n",
              "  "
            ]
          },
          "metadata": {},
          "execution_count": 2
        }
      ]
    },
    {
      "cell_type": "markdown",
      "metadata": {
        "id": "fsslwpTrsJ0l"
      },
      "source": [
        "**Data Preparation**"
      ]
    },
    {
      "cell_type": "code",
      "execution_count": null,
      "metadata": {
        "id": "0PtReQ6dA2Gp"
      },
      "outputs": [],
      "source": [
        "from sklearn.feature_extraction.text import TfidfVectorizer # we can use TFKeras built-in vectorizer but scikit-learn's vectorizer is more straightforward\n",
        "corpus = [] # store all reviews here so that we can fit the vectorizer with this dataset\n",
        "y = []\n",
        "count = 0\n",
        "for index, row in df.iterrows():\n",
        "  text = row['text'] \n",
        "  if row['label'] == \"Liberal\":\n",
        "    label = 1 # Liberal\n",
        "  else:\n",
        "    label = 0 # Conservative\n",
        "  corpus.append(text)\n",
        "  y.append(label)\n",
        "  count += 1\n",
        "  if count == 5000:\n",
        "    break\n",
        "vectorizer = TfidfVectorizer(max_features=10000) # the value of max_features is dependent on how you design your model\n",
        "vectorizer.fit(corpus) # fit the vectorizer with the entire dataset\n",
        "# once we fitted the vectorizer, we use it for converting raw text (review) into vectors\n",
        "vectorized_review = vectorizer.transform(corpus)"
      ]
    },
    {
      "cell_type": "code",
      "execution_count": null,
      "metadata": {
        "id": "_pbX64WJmjbN"
      },
      "outputs": [],
      "source": [
        "#print(vectorized_review.shape)\n",
        "#print(type(vectorized_review))\n",
        "import numpy as np\n",
        "X, Y = vectorized_review.toarray(), np.asarray(y) # convert both input (vectorized_review) and output (y) into numpy variables so that a TFkeras model can understand them"
      ]
    },
    {
      "cell_type": "markdown",
      "metadata": {
        "id": "Gl76IX3vmQPm"
      },
      "source": [
        "#**artificial neural network with two hidden layer**"
      ]
    },
    {
      "cell_type": "code",
      "execution_count": null,
      "metadata": {
        "colab": {
          "base_uri": "https://localhost:8080/",
          "height": 369
        },
        "id": "KCNjvSj4mVc1",
        "outputId": "00ef60e5-32f1-4160-ccd2-d6ad9a39c734"
      },
      "outputs": [
        {
          "output_type": "execute_result",
          "data": {
            "text/plain": [
              "<IPython.core.display.Image object>"
            ],
            "image/png": "[encoded data removed]"
          },
          "metadata": {},
          "execution_count": 5
        }
      ],
      "source": [
        "import tensorflow as tf\n",
        "input_layer = tf.keras.Input(shape=10000, name=\"input_layer\")\n",
        "hidden_layer1 = tf.keras.layers.Dense(units=5000, activation=\"relu\", name=\"hidden_layer1\")(input_layer)\n",
        "hidden_layer2 = tf.keras.layers.Dense(units=2500, activation=\"relu\", name=\"hidden_layer2\")(hidden_layer1)\n",
        "output_layer = tf.keras.layers.Dense(units=1, activation=\"sigmoid\", name=\"output_layer\")(hidden_layer2)\n",
        "model = tf.keras.Model(inputs=input_layer, outputs=output_layer, name=\"ANN_two_hidden_layer\")\n",
        "model.compile(loss=\"binary_crossentropy\", optimizer=\"SGD\", metrics=[tf.keras.metrics.Precision(name=\"precision\"),tf.keras.metrics.Recall(name=\"recall\"),tf.keras.metrics.BinaryAccuracy(name=\"accuracy\")])\n",
        "#model.summary()\n",
        "tf.keras.utils.plot_model(model)"
      ]
    },
    {
      "cell_type": "markdown",
      "source": [
        "**Model Save**"
      ],
      "metadata": {
        "id": "reKSm9GK-fiA"
      }
    },
    {
      "cell_type": "code",
      "source": [
        "filepath = \"/content/drive/My Drive/CIS509/\"\n",
        "cp_callback = tf.keras.callbacks.ModelCheckpoint(filepath=filepath, save_best_only=True, monitor=\"val_accuracy\", mode=\"max\", verbose=1) # Saves only the best model (i.e., for each epoch during training, save model only if the current version outperforms the previous version)\n",
        "model.fit(x=X, y=Y, epochs=30, batch_size=8, validation_split=0.25, callbacks=cp_callback)"
      ],
      "metadata": {
        "colab": {
          "base_uri": "https://localhost:8080/"
        },
        "id": "mzBTPtf--QFG",
        "outputId": "7de3ffa0-2cee-4c41-b371-052e1fa59138"
      },
      "execution_count": null,
      "outputs": [
        {
          "output_type": "stream",
          "name": "stdout",
          "text": [
            "Epoch 1/30\n",
            "469/469 [==============================] - ETA: 0s - loss: 0.6573 - precision: 0.6490 - recall: 0.9996 - accuracy: 0.6488\n",
            "Epoch 1: val_accuracy improved from -inf to 0.64320, saving model to /content/drive/My Drive/CIS509/\n",
            "INFO:tensorflow:Assets written to: /content/drive/My Drive/CIS509/assets\n",
            "469/469 [==============================] - 136s 289ms/step - loss: 0.6573 - precision: 0.6490 - recall: 0.9996 - accuracy: 0.6488 - val_loss: 0.6510 - val_precision: 0.6432 - val_recall: 1.0000 - val_accuracy: 0.6432\n",
            "Epoch 2/30\n",
            "469/469 [==============================] - ETA: 0s - loss: 0.6473 - precision: 0.6491 - recall: 1.0000 - accuracy: 0.6491\n",
            "Epoch 2: val_accuracy did not improve from 0.64320\n",
            "469/469 [==============================] - 133s 283ms/step - loss: 0.6473 - precision: 0.6491 - recall: 1.0000 - accuracy: 0.6491 - val_loss: 0.6509 - val_precision: 0.6432 - val_recall: 1.0000 - val_accuracy: 0.6432\n",
            "Epoch 3/30\n",
            "469/469 [==============================] - ETA: 0s - loss: 0.6465 - precision: 0.6491 - recall: 1.0000 - accuracy: 0.6491\n",
            "Epoch 3: val_accuracy did not improve from 0.64320\n",
            "469/469 [==============================] - 135s 289ms/step - loss: 0.6465 - precision: 0.6491 - recall: 1.0000 - accuracy: 0.6491 - val_loss: 0.6504 - val_precision: 0.6432 - val_recall: 1.0000 - val_accuracy: 0.6432\n",
            "Epoch 4/30\n",
            "469/469 [==============================] - ETA: 0s - loss: 0.6454 - precision: 0.6491 - recall: 1.0000 - accuracy: 0.6491\n",
            "Epoch 4: val_accuracy did not improve from 0.64320\n",
            "469/469 [==============================] - 141s 300ms/step - loss: 0.6454 - precision: 0.6491 - recall: 1.0000 - accuracy: 0.6491 - val_loss: 0.6501 - val_precision: 0.6432 - val_recall: 1.0000 - val_accuracy: 0.6432\n",
            "Epoch 5/30\n",
            "469/469 [==============================] - ETA: 0s - loss: 0.6444 - precision: 0.6491 - recall: 1.0000 - accuracy: 0.6491\n",
            "Epoch 5: val_accuracy did not improve from 0.64320\n",
            "469/469 [==============================] - 128s 272ms/step - loss: 0.6444 - precision: 0.6491 - recall: 1.0000 - accuracy: 0.6491 - val_loss: 0.6491 - val_precision: 0.6432 - val_recall: 1.0000 - val_accuracy: 0.6432\n",
            "Epoch 6/30\n",
            "469/469 [==============================] - ETA: 0s - loss: 0.6433 - precision: 0.6491 - recall: 1.0000 - accuracy: 0.6491\n",
            "Epoch 6: val_accuracy did not improve from 0.64320\n",
            "469/469 [==============================] - 113s 241ms/step - loss: 0.6433 - precision: 0.6491 - recall: 1.0000 - accuracy: 0.6491 - val_loss: 0.6486 - val_precision: 0.6432 - val_recall: 1.0000 - val_accuracy: 0.6432\n",
            "Epoch 7/30\n",
            "469/469 [==============================] - ETA: 0s - loss: 0.6421 - precision: 0.6491 - recall: 1.0000 - accuracy: 0.6491\n",
            "Epoch 7: val_accuracy did not improve from 0.64320\n",
            "469/469 [==============================] - 107s 228ms/step - loss: 0.6421 - precision: 0.6491 - recall: 1.0000 - accuracy: 0.6491 - val_loss: 0.6479 - val_precision: 0.6432 - val_recall: 1.0000 - val_accuracy: 0.6432\n",
            "Epoch 8/30\n",
            "469/469 [==============================] - ETA: 0s - loss: 0.6406 - precision: 0.6491 - recall: 1.0000 - accuracy: 0.6491\n",
            "Epoch 8: val_accuracy did not improve from 0.64320\n",
            "469/469 [==============================] - 108s 230ms/step - loss: 0.6406 - precision: 0.6491 - recall: 1.0000 - accuracy: 0.6491 - val_loss: 0.6468 - val_precision: 0.6432 - val_recall: 1.0000 - val_accuracy: 0.6432\n",
            "Epoch 9/30\n",
            "469/469 [==============================] - ETA: 0s - loss: 0.6385 - precision: 0.6491 - recall: 1.0000 - accuracy: 0.6491\n",
            "Epoch 9: val_accuracy did not improve from 0.64320\n",
            "469/469 [==============================] - 109s 232ms/step - loss: 0.6385 - precision: 0.6491 - recall: 1.0000 - accuracy: 0.6491 - val_loss: 0.6464 - val_precision: 0.6432 - val_recall: 1.0000 - val_accuracy: 0.6432\n",
            "Epoch 10/30\n",
            "469/469 [==============================] - ETA: 0s - loss: 0.6372 - precision: 0.6491 - recall: 1.0000 - accuracy: 0.6491\n",
            "Epoch 10: val_accuracy did not improve from 0.64320\n",
            "469/469 [==============================] - 128s 272ms/step - loss: 0.6372 - precision: 0.6491 - recall: 1.0000 - accuracy: 0.6491 - val_loss: 0.6445 - val_precision: 0.6432 - val_recall: 1.0000 - val_accuracy: 0.6432\n",
            "Epoch 11/30\n",
            "469/469 [==============================] - ETA: 0s - loss: 0.6346 - precision: 0.6491 - recall: 1.0000 - accuracy: 0.6491\n",
            "Epoch 11: val_accuracy did not improve from 0.64320\n",
            "469/469 [==============================] - 107s 228ms/step - loss: 0.6346 - precision: 0.6491 - recall: 1.0000 - accuracy: 0.6491 - val_loss: 0.6430 - val_precision: 0.6432 - val_recall: 1.0000 - val_accuracy: 0.6432\n",
            "Epoch 12/30\n",
            "469/469 [==============================] - ETA: 0s - loss: 0.6317 - precision: 0.6491 - recall: 1.0000 - accuracy: 0.6491\n",
            "Epoch 12: val_accuracy did not improve from 0.64320\n",
            "469/469 [==============================] - 107s 228ms/step - loss: 0.6317 - precision: 0.6491 - recall: 1.0000 - accuracy: 0.6491 - val_loss: 0.6410 - val_precision: 0.6432 - val_recall: 1.0000 - val_accuracy: 0.6432\n",
            "Epoch 13/30\n",
            "469/469 [==============================] - ETA: 0s - loss: 0.6281 - precision: 0.6491 - recall: 1.0000 - accuracy: 0.6491\n",
            "Epoch 13: val_accuracy did not improve from 0.64320\n",
            "469/469 [==============================] - 108s 229ms/step - loss: 0.6281 - precision: 0.6491 - recall: 1.0000 - accuracy: 0.6491 - val_loss: 0.6387 - val_precision: 0.6432 - val_recall: 1.0000 - val_accuracy: 0.6432\n",
            "Epoch 14/30\n",
            "469/469 [==============================] - ETA: 0s - loss: 0.6233 - precision: 0.6491 - recall: 1.0000 - accuracy: 0.6491\n",
            "Epoch 14: val_accuracy did not improve from 0.64320\n",
            "469/469 [==============================] - 121s 257ms/step - loss: 0.6233 - precision: 0.6491 - recall: 1.0000 - accuracy: 0.6491 - val_loss: 0.6359 - val_precision: 0.6432 - val_recall: 1.0000 - val_accuracy: 0.6432\n",
            "Epoch 15/30\n",
            "469/469 [==============================] - ETA: 0s - loss: 0.6173 - precision: 0.6491 - recall: 1.0000 - accuracy: 0.6491\n",
            "Epoch 15: val_accuracy improved from 0.64320 to 0.64400, saving model to /content/drive/My Drive/CIS509/\n",
            "INFO:tensorflow:Assets written to: /content/drive/My Drive/CIS509/assets\n",
            "469/469 [==============================] - 141s 300ms/step - loss: 0.6173 - precision: 0.6491 - recall: 1.0000 - accuracy: 0.6491 - val_loss: 0.6319 - val_precision: 0.6437 - val_recall: 1.0000 - val_accuracy: 0.6440\n",
            "Epoch 16/30\n",
            "469/469 [==============================] - ETA: 0s - loss: 0.6105 - precision: 0.6491 - recall: 1.0000 - accuracy: 0.6491\n",
            "Epoch 16: val_accuracy did not improve from 0.64400\n",
            "469/469 [==============================] - 144s 308ms/step - loss: 0.6105 - precision: 0.6491 - recall: 1.0000 - accuracy: 0.6491 - val_loss: 0.6284 - val_precision: 0.6437 - val_recall: 1.0000 - val_accuracy: 0.6440\n",
            "Epoch 17/30\n",
            "469/469 [==============================] - ETA: 0s - loss: 0.6015 - precision: 0.6505 - recall: 1.0000 - accuracy: 0.6512\n",
            "Epoch 17: val_accuracy improved from 0.64400 to 0.64560, saving model to /content/drive/My Drive/CIS509/\n",
            "INFO:tensorflow:Assets written to: /content/drive/My Drive/CIS509/assets\n",
            "469/469 [==============================] - 150s 321ms/step - loss: 0.6015 - precision: 0.6505 - recall: 1.0000 - accuracy: 0.6512 - val_loss: 0.6213 - val_precision: 0.6452 - val_recall: 0.9975 - val_accuracy: 0.6456\n",
            "Epoch 18/30\n",
            "469/469 [==============================] - ETA: 0s - loss: 0.5900 - precision: 0.6549 - recall: 0.9988 - accuracy: 0.6576\n",
            "Epoch 18: val_accuracy improved from 0.64560 to 0.65600, saving model to /content/drive/My Drive/CIS509/\n",
            "INFO:tensorflow:Assets written to: /content/drive/My Drive/CIS509/assets\n",
            "469/469 [==============================] - 146s 312ms/step - loss: 0.5900 - precision: 0.6549 - recall: 0.9988 - accuracy: 0.6576 - val_loss: 0.6142 - val_precision: 0.6523 - val_recall: 0.9963 - val_accuracy: 0.6560\n",
            "Epoch 19/30\n",
            "469/469 [==============================] - ETA: 0s - loss: 0.5758 - precision: 0.6678 - recall: 0.9975 - accuracy: 0.6763\n",
            "Epoch 19: val_accuracy improved from 0.65600 to 0.68480, saving model to /content/drive/My Drive/CIS509/\n",
            "INFO:tensorflow:Assets written to: /content/drive/My Drive/CIS509/assets\n",
            "469/469 [==============================] - 143s 304ms/step - loss: 0.5758 - precision: 0.6678 - recall: 0.9975 - accuracy: 0.6763 - val_loss: 0.6075 - val_precision: 0.6746 - val_recall: 0.9851 - val_accuracy: 0.6848\n",
            "Epoch 20/30\n",
            "469/469 [==============================] - ETA: 0s - loss: 0.5585 - precision: 0.6852 - recall: 0.9942 - accuracy: 0.6997\n",
            "Epoch 20: val_accuracy did not improve from 0.68480\n",
            "469/469 [==============================] - 145s 310ms/step - loss: 0.5585 - precision: 0.6852 - recall: 0.9942 - accuracy: 0.6997 - val_loss: 0.5963 - val_precision: 0.6667 - val_recall: 0.9876 - val_accuracy: 0.6744\n",
            "Epoch 21/30\n",
            "469/469 [==============================] - ETA: 0s - loss: 0.5369 - precision: 0.7042 - recall: 0.9860 - accuracy: 0.7221\n",
            "Epoch 21: val_accuracy improved from 0.68480 to 0.69840, saving model to /content/drive/My Drive/CIS509/\n",
            "INFO:tensorflow:Assets written to: /content/drive/My Drive/CIS509/assets\n",
            "469/469 [==============================] - 131s 278ms/step - loss: 0.5369 - precision: 0.7042 - recall: 0.9860 - accuracy: 0.7221 - val_loss: 0.5861 - val_precision: 0.6894 - val_recall: 0.9664 - val_accuracy: 0.6984\n",
            "Epoch 22/30\n",
            "469/469 [==============================] - ETA: 0s - loss: 0.5138 - precision: 0.7283 - recall: 0.9790 - accuracy: 0.7493\n",
            "Epoch 22: val_accuracy improved from 0.69840 to 0.71280, saving model to /content/drive/My Drive/CIS509/\n",
            "INFO:tensorflow:Assets written to: /content/drive/My Drive/CIS509/assets\n",
            "469/469 [==============================] - 118s 252ms/step - loss: 0.5138 - precision: 0.7283 - recall: 0.9790 - accuracy: 0.7493 - val_loss: 0.5752 - val_precision: 0.7039 - val_recall: 0.9552 - val_accuracy: 0.7128\n",
            "Epoch 23/30\n",
            "469/469 [==============================] - ETA: 0s - loss: 0.4879 - precision: 0.7484 - recall: 0.9692 - accuracy: 0.7685\n",
            "Epoch 23: val_accuracy improved from 0.71280 to 0.72320, saving model to /content/drive/My Drive/CIS509/\n",
            "INFO:tensorflow:Assets written to: /content/drive/My Drive/CIS509/assets\n",
            "469/469 [==============================] - 147s 313ms/step - loss: 0.4879 - precision: 0.7484 - recall: 0.9692 - accuracy: 0.7685 - val_loss: 0.5651 - val_precision: 0.7173 - val_recall: 0.9403 - val_accuracy: 0.7232\n",
            "Epoch 24/30\n",
            "469/469 [==============================] - ETA: 0s - loss: 0.4597 - precision: 0.7776 - recall: 0.9667 - accuracy: 0.7989\n",
            "Epoch 24: val_accuracy did not improve from 0.72320\n",
            "469/469 [==============================] - 140s 299ms/step - loss: 0.4597 - precision: 0.7776 - recall: 0.9667 - accuracy: 0.7989 - val_loss: 0.5564 - val_precision: 0.7192 - val_recall: 0.9303 - val_accuracy: 0.7216\n",
            "Epoch 25/30\n",
            "469/469 [==============================] - ETA: 0s - loss: 0.4319 - precision: 0.7993 - recall: 0.9622 - accuracy: 0.8187\n",
            "Epoch 25: val_accuracy improved from 0.72320 to 0.73120, saving model to /content/drive/My Drive/CIS509/\n",
            "INFO:tensorflow:Assets written to: /content/drive/My Drive/CIS509/assets\n",
            "469/469 [==============================] - 142s 304ms/step - loss: 0.4319 - precision: 0.7993 - recall: 0.9622 - accuracy: 0.8187 - val_loss: 0.5496 - val_precision: 0.7299 - val_recall: 0.9241 - val_accuracy: 0.7312\n",
            "Epoch 26/30\n",
            "469/469 [==============================] - ETA: 0s - loss: 0.4026 - precision: 0.8193 - recall: 0.9556 - accuracy: 0.8344\n",
            "Epoch 26: val_accuracy did not improve from 0.73120\n",
            "469/469 [==============================] - 136s 289ms/step - loss: 0.4026 - precision: 0.8193 - recall: 0.9556 - accuracy: 0.8344 - val_loss: 0.5483 - val_precision: 0.7206 - val_recall: 0.9303 - val_accuracy: 0.7232\n",
            "Epoch 27/30\n",
            "469/469 [==============================] - ETA: 0s - loss: 0.3727 - precision: 0.8465 - recall: 0.9536 - accuracy: 0.8576\n",
            "Epoch 27: val_accuracy did not improve from 0.73120\n",
            "469/469 [==============================] - 135s 288ms/step - loss: 0.3727 - precision: 0.8465 - recall: 0.9536 - accuracy: 0.8576 - val_loss: 0.5457 - val_precision: 0.7284 - val_recall: 0.9241 - val_accuracy: 0.7296\n",
            "Epoch 28/30\n",
            "469/469 [==============================] - ETA: 0s - loss: 0.3426 - precision: 0.8634 - recall: 0.9532 - accuracy: 0.8717\n",
            "Epoch 28: val_accuracy did not improve from 0.73120\n",
            "469/469 [==============================] - 145s 308ms/step - loss: 0.3426 - precision: 0.8634 - recall: 0.9532 - accuracy: 0.8717 - val_loss: 0.5569 - val_precision: 0.7202 - val_recall: 0.9316 - val_accuracy: 0.7232\n",
            "Epoch 29/30\n",
            "469/469 [==============================] - ETA: 0s - loss: 0.3145 - precision: 0.8857 - recall: 0.9548 - accuracy: 0.8907\n",
            "Epoch 29: val_accuracy improved from 0.73120 to 0.73440, saving model to /content/drive/My Drive/CIS509/\n",
            "INFO:tensorflow:Assets written to: /content/drive/My Drive/CIS509/assets\n",
            "469/469 [==============================] - 150s 320ms/step - loss: 0.3145 - precision: 0.8857 - recall: 0.9548 - accuracy: 0.8907 - val_loss: 0.5426 - val_precision: 0.7511 - val_recall: 0.8781 - val_accuracy: 0.7344\n",
            "Epoch 30/30\n",
            "469/469 [==============================] - ETA: 0s - loss: 0.2849 - precision: 0.9044 - recall: 0.9601 - accuracy: 0.9083\n",
            "Epoch 30: val_accuracy improved from 0.73440 to 0.73920, saving model to /content/drive/My Drive/CIS509/\n",
            "INFO:tensorflow:Assets written to: /content/drive/My Drive/CIS509/assets\n",
            "469/469 [==============================] - 148s 315ms/step - loss: 0.2849 - precision: 0.9044 - recall: 0.9601 - accuracy: 0.9083 - val_loss: 0.5461 - val_precision: 0.7570 - val_recall: 0.8756 - val_accuracy: 0.7392\n"
          ]
        },
        {
          "output_type": "execute_result",
          "data": {
            "text/plain": [
              "<keras.callbacks.History at 0x7fae5bf547d0>"
            ]
          },
          "metadata": {},
          "execution_count": 8
        }
      ]
    },
    {
      "cell_type": "markdown",
      "source": [
        "**Model Load and reuse**"
      ],
      "metadata": {
        "id": "ZLeROxsdG8I7"
      }
    },
    {
      "cell_type": "code",
      "source": [
        "import tensorflow as tf\n",
        "#filepath = \"/content/drive/My Drive/ASU_courses/CIS509/saved_model/\"\n",
        "new_model = tf.keras.models.load_model(\"/content/drive/My Drive/CIS509/\")\n",
        "new_model.summary()"
      ],
      "metadata": {
        "colab": {
          "base_uri": "https://localhost:8080/"
        },
        "id": "GG3fSazhHGo7",
        "outputId": "7f546943-e421-49f8-c773-44b753cfc534"
      },
      "execution_count": null,
      "outputs": [
        {
          "output_type": "stream",
          "name": "stdout",
          "text": [
            "Model: \"ANN_two_hidden_layer\"\n",
            "_________________________________________________________________\n",
            " Layer (type)                Output Shape              Param #   \n",
            "=================================================================\n",
            " input_layer (InputLayer)    [(None, 10000)]           0         \n",
            "                                                                 \n",
            " hidden_layer1 (Dense)       (None, 5000)              50005000  \n",
            "                                                                 \n",
            " hidden_layer2 (Dense)       (None, 2500)              12502500  \n",
            "                                                                 \n",
            " output_layer (Dense)        (None, 1)                 2501      \n",
            "                                                                 \n",
            "=================================================================\n",
            "Total params: 62,510,001\n",
            "Trainable params: 62,510,001\n",
            "Non-trainable params: 0\n",
            "_________________________________________________________________\n"
          ]
        }
      ]
    },
    {
      "cell_type": "code",
      "source": [
        "new_data = [\"Anarcho-capitalism, in my opinion, is a doctrinal system which, if ever implemented, would lead to forms of tyranny and oppression that have few counterparts in human history.\",\n",
        "            \"Biden's Response to Putin's Invasion of Ukraine Has Been His Finest Moment\"]\n",
        "\n",
        "vectorized_new_data = vectorizer.transform(new_data)\n",
        "new_x = vectorized_new_data.toarray()\n",
        "new_model.predict(new_x)"
      ],
      "metadata": {
        "colab": {
          "base_uri": "https://localhost:8080/"
        },
        "id": "ZQH8M9tNHRQ2",
        "outputId": "4d73b754-29df-48e3-9e18-12b5a2def87a"
      },
      "execution_count": null,
      "outputs": [
        {
          "output_type": "execute_result",
          "data": {
            "text/plain": [
              "array([[0.67927074],\n",
              "       [0.02826622]], dtype=float32)"
            ]
          },
          "metadata": {},
          "execution_count": 14
        }
      ]
    }
  ],
  "metadata": {
    "colab": {
      "collapsed_sections": [],
      "name": "CohortD_Sunyoung_Joo_Ass1",
      "provenance": []
    },
    "kernelspec": {
      "display_name": "Python 3",
      "name": "python3"
    },
    "language_info": {
      "name": "python"
    }
  },
  "nbformat": 4,
  "nbformat_minor": 0
}